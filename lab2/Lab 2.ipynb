{
 "cells": [
  {
   "cell_type": "code",
   "execution_count": 1,
   "metadata": {},
   "outputs": [],
   "source": [
    "\"\"\"\n",
    "This project was developed by Peter Chen, Rocky Duan, Pieter Abbeel for the Berkeley Deep RL Bootcamp, August 2017.\n",
    "Bootcamp website with slides and lecture videos: https://sites.google.com/view/deep-rl-bootcamp/.\n",
    "\n",
    "Code adapted from Stanford CS231N materials: http://cs231n.stanford.edu/\n",
    "\"\"\"\n",
    "\n",
    "\n",
    "# note to properly run this lab, you should execute all code blocks sequentially\n",
    "import chainer\n",
    "import chainer.functions as F\n",
    "import chainer.links as L\n",
    "from chainer import training\n",
    "from chainer.training import extensions\n",
    "\n",
    "from collections import namedtuple, defaultdict, deque\n",
    "\n",
    "import numpy as np\n",
    "\n",
    "%matplotlib inline\n",
    "\n",
    "import matplotlib\n",
    "import matplotlib.pyplot as plt"
   ]
  },
  {
   "cell_type": "markdown",
   "metadata": {},
   "source": [
    "## Introduction to Chainer\n",
    "\n",
    "Chainer can be understood as Numpy plus the ability to record the computation graph of numerical operations to enable Automatic Differentiation. (Chainer actually also offers many other things; for example, a Numpy equivalent library that runs on GPU, but we will ignore them for now)"
   ]
  },
  {
   "cell_type": "markdown",
   "metadata": {},
   "source": [
    "Let's illustrate how Chainer works by a simple 1D regression task.\n",
    "\n",
    "Suppose we have observations from the following model $y = w x + b + \\epsilon$ where $\\epsilon \\sim \\mathcal{N}(0, 0.1)$ and the task is to estimate the linear model parameters $w, b$ from data."
   ]
  },
  {
   "cell_type": "code",
   "execution_count": 4,
   "metadata": {},
   "outputs": [
    {
     "name": "stdout",
     "output_type": "stream",
     "text": [
      "(100,)\n",
      "(100,)\n"
     ]
    },
    {
     "data": {
      "image/png": "[encoded data removed]",
      "text/plain": [
       "<Figure size 432x288 with 1 Axes>"
      ]
     },
     "metadata": {
      "needs_background": "light"
     },
     "output_type": "display_data"
    }
   ],
   "source": [
    "# first generate some observations\n",
    "true_a = 1.3\n",
    "true_b = 0.4\n",
    "data_x = (np.arange(100) / 99.0 - .5).astype(np.float32) # Chainer assumes all the cpu computation is done in float32\n",
    "data_y = (data_x * true_a + true_b + np.random.randn(*data_x.shape) * 0.1).astype(np.float32)\n",
    "_ = plt.scatter(data_x, data_y, c='b')\n",
    "print(data_x.shape)\n",
    "print(data_y.shape)"
   ]
  },
  {
   "cell_type": "markdown",
   "metadata": {},
   "source": [
    "Chainer provides an abstraction called `Link` that describe some computation and keeps track of parameters for it. For instance, a `Linear` link describes a linear map on input and keeps track of `w` and bias `b`."
   ]
  },
  {
   "cell_type": "code",
   "execution_count": 4,
   "metadata": {},
   "outputs": [
    {
     "name": "stdout",
     "output_type": "stream",
     "text": [
      "w: variable W([[ 0.25915515]])\n",
      "b: variable b([ 0.])\n",
      "Operations on chainer.Variable: variable([[ 123.25915527]]), type: <class 'chainer.variable.Variable'>\n",
      "numpy arrays: [[ 0.25915515]] [[ 123.25915527]]\n"
     ]
    }
   ],
   "source": [
    "model = L.Linear(in_size=1, out_size=1) # input is 1D data and output is also 1D data\n",
    "\n",
    "# Chainer will randomly initialize `w` and `b` for us.\n",
    "# we can take a look at their values\n",
    "print(\"w:\", model.W)\n",
    "print(\"b:\", model.b)\n",
    "\n",
    "# model.W and model.b have type `chainer.Variable`, \n",
    "#   which is a wrapper around Numpy array\n",
    "assert isinstance(model.W, chainer.Variable)\n",
    "\n",
    "# operations that involve `chainer.Variable` will produce\n",
    "#   `chainer.Variable` and this records the computation graph\n",
    "var_result = model.W + 123 # some random computation\n",
    "print(\"Operations on chainer.Variable: %s, type: %s\" % (var_result, type(var_result)))\n",
    "\n",
    "# the underlying numpy array can be accessed by `data` attribute\n",
    "print(\"numpy arrays:\", model.W.data, var_result.data)"
   ]
  },
  {
   "cell_type": "code",
   "execution_count": 5,
   "metadata": {},
   "outputs": [
    {
     "data": {
      "image/png": "[encoded data removed]",
      "text/plain": [
       "<matplotlib.figure.Figure at 0x1123d65f8>"
      ]
     },
     "metadata": {},
     "output_type": "display_data"
    }
   ],
   "source": [
    "# A chainer link is a callable object. calling it performs the\n",
    "#   forward computation. (in this case, it performs Wx + b)\n",
    "model_y = model(data_x[:, None]) # chainer's link usually assumes input is [Batch Size, Input Dimension]\n",
    "# `model_y` is a chainer variable so we use `.data` to access its numpy array for plotting\n",
    "\n",
    "# we can plot the model's current fit in red. it should be terrible because we haven't trained it yet\n",
    "_ = plt.plot(data_x, model_y.data[:,0], c='r')\n",
    "_ = plt.scatter(data_x, data_y, c='b')\n",
    "_ = plt.title(\"Initial model\")"
   ]
  },
  {
   "cell_type": "code",
   "execution_count": 11,
   "metadata": {},
   "outputs": [
    {
     "name": "stdout",
     "output_type": "stream",
     "text": [
      "loss variable(0.5051484704017639)\n",
      "dloss/dW [[-0.33470789]]\n"
     ]
    }
   ],
   "source": [
    "# now let's walk through how to perform forward computation\n",
    "#  and use AD to get gradients\n",
    "\n",
    "# first we clear the gradients that are stored in the model\n",
    "model.cleargrads()\n",
    "# as we have seen we can perform forward computation by calling the link\n",
    "model_y = model(data_x[:, None])\n",
    "\n",
    "# remember that `model_y` is a chainer variable. to operate on chainer variable\n",
    "#    we will use functions from chainer.functions to operate on those objects.\n",
    "loss = F.mean(F.square(model_y - data_y[:, None]))\n",
    "# `loss` is a scalar chainer variable\n",
    "assert isinstance(loss, chainer.Variable)\n",
    "print(\"loss\", loss)\n",
    "# calculating gradients d loss /d params is as simple as\n",
    "loss.backward()\n",
    "\n",
    "# we can inspect the gradient of loss with respect to W\n",
    "print(\"dloss/dW\", model.W.grad)"
   ]
  },
  {
   "cell_type": "markdown",
   "metadata": {},
   "source": [
    "Now that we know how to calculate gradients, we can code up a simple loop to perform gradient descent to train this model:\n",
    "\n",
    "(Hint: if you run into weird problems, maybe the state has been messed up and you can try re-runing all the code blocks from the beginning)"
   ]
  },
  {
   "cell_type": "code",
   "execution_count": 5,
   "metadata": {},
   "outputs": [
    {
     "name": "stdout",
     "output_type": "stream",
     "text": [
      "Itr 0 loss: variable(0.2513751983642578)\n",
      "Itr 25 loss: variable(0.04785676673054695)\n",
      "Itr 50 loss: variable(0.025230685248970985)\n",
      "Itr 75 loss: variable(0.015632931143045425)\n"
     ]
    },
    {
     "data": {
      "image/png": "[encoded data removed]",
      "text/plain": [
       "<Figure size 432x288 with 1 Axes>"
      ]
     },
     "metadata": {
      "needs_background": "light"
     },
     "output_type": "display_data"
    },
    {
     "data": {
      "image/png": "[encoded data removed]",
      "text/plain": [
       "<Figure size 432x288 with 1 Axes>"
      ]
     },
     "metadata": {
      "needs_background": "light"
     },
     "output_type": "display_data"
    }
   ],
   "source": [
    "# now we can perform gradient descent to improve this model\n",
    "model = L.Linear(in_size=1, out_size=1)\n",
    "losses = []\n",
    "lr = .1\n",
    "for i in range(100):\n",
    "    model.cleargrads()\n",
    "    loss = F.mean(F.square(model(data_x[:, None]) - data_y[:, None]))\n",
    "    losses.append(float(loss.data))\n",
    "    ## *** YOUR CODE HERE TO PERFORM GRADIENT DESCENT ***\n",
    "    ## Hint: you could access gradients with model.W.grad, model.b.grad\n",
    "    ## Hint2: you could write data into a parameter with model.W.data[:] = some_numpy_array\n",
    "    ## Hint3: if your model doesn't learn, remember to try different learning rates\n",
    "    \n",
    "    loss.backward()\n",
    "    model.W.data[:] -= lr*model.W.grad\n",
    "    model.b.data[:] -= lr*model.b.grad\n",
    "    \n",
    "    if i % 25 == 0:\n",
    "        print(\"Itr\", i, \"loss:\", loss)\n",
    "plt.plot(np.array(losses))\n",
    "plt.title(\"Learning curve\")\n",
    "plt.figure()\n",
    "plt.plot(data_x, model(data_x[:, None])[:,0].data, c='r')\n",
    "plt.scatter(data_x, data_y, c='b')\n",
    "_ = plt.title(\"Trained model fitness\")\n"
   ]
  },
  {
   "cell_type": "markdown",
   "metadata": {},
   "source": [
    "## Train your first deep model\n",
    "\n",
    "Now we have learned the basics of Chainer. We can use it to train a deep model to classify MNIST digits. We will train a model on the MNIST dataset because the dataset is small.\n",
    "\n",
    "First we load the data and see what the images look like:"
   ]
  },
  {
   "cell_type": "code",
   "execution_count": 7,
   "metadata": {
    "scrolled": false
   },
   "outputs": [
    {
     "name": "stdout",
     "output_type": "stream",
     "text": [
      "Downloading from http://yann.lecun.com/exdb/mnist/train-images-idx3-ubyte.gz...\n",
      "Downloading from http://yann.lecun.com/exdb/mnist/train-labels-idx1-ubyte.gz...\n",
      "Downloading from http://yann.lecun.com/exdb/mnist/t10k-images-idx3-ubyte.gz...\n",
      "Downloading from http://yann.lecun.com/exdb/mnist/t10k-labels-idx1-ubyte.gz...\n",
      "train[i][0] is the ith image that's flattened, and has shape: (784,)\n",
      "train[i][1] is the ith image's label, such as: 3\n"
     ]
    },
    {
     "data": {
      "image/png": "[encoded data removed]",
      "text/plain": [
       "<Figure size 432x288 with 1 Axes>"
      ]
     },
     "metadata": {
      "needs_background": "light"
     },
     "output_type": "display_data"
    },
    {
     "data": {
      "image/png": "[encoded data removed]",
      "text/plain": [
       "<Figure size 432x288 with 1 Axes>"
      ]
     },
     "metadata": {
      "needs_background": "light"
     },
     "output_type": "display_data"
    }
   ],
   "source": [
    "train, test = chainer.datasets.get_mnist()\n",
    "# use train[data_point_index] to access data\n",
    "print(\"train[i][0] is the ith image that's flattened, and has shape:\", train[12][0].shape)\n",
    "print(\"train[i][1] is the ith image's label, such as:\", train[12][1])\n",
    "# here we visualize two of them\n",
    "plt.imshow(train[12][0].reshape([28, 28,]))\n",
    "plt.title(\"Label: %s\" % train[12][1])\n",
    "plt.figure()\n",
    "plt.imshow(train[42][0].reshape([28, 28,]))\n",
    "_ = plt.title(\"Label: %s\" % train[42][1])"
   ]
  },
  {
   "cell_type": "markdown",
   "metadata": {},
   "source": [
    "Next we will provide some boilerplate code and train a linear classifier as an example:"
   ]
  },
  {
   "cell_type": "code",
   "execution_count": 9,
   "metadata": {},
   "outputs": [
    {
     "name": "stdout",
     "output_type": "stream",
     "text": [
      "loss: 3.07600712776; accuracy: 0.0\n",
      "loss: 0.615140242577; accuracy: 0.8575\n",
      "loss: 0.417023091316; accuracy: 0.905\n",
      "loss: 0.34879863441; accuracy: 0.92\n",
      "loss: 0.35428357482; accuracy: 0.9075\n",
      "loss: 0.466007983685; accuracy: 0.8675\n",
      "loss: 0.391639821529; accuracy: 0.9\n",
      "loss: 0.339467372298; accuracy: 0.8925\n",
      "loss: 0.259040229023; accuracy: 0.9175\n",
      "loss: 0.354399896264; accuracy: 0.915\n",
      "loss: 0.334629201889; accuracy: 0.8975\n",
      "loss: 0.384780980647; accuracy: 0.875\n",
      "loss: 0.343600702286; accuracy: 0.9025\n",
      "loss: 0.314436522126; accuracy: 0.895\n",
      "loss: 0.23387152493; accuracy: 0.9325\n",
      "loss: 0.332539086044; accuracy: 0.9\n",
      "loss: 0.305669279695; accuracy: 0.92\n",
      "loss: 0.309180665761; accuracy: 0.8925\n",
      "loss: 0.270514100194; accuracy: 0.9175\n",
      "loss: 0.249274532795; accuracy: 0.9375\n",
      "loss: 0.343449606895; accuracy: 0.895\n",
      "loss: 0.25777890414; accuracy: 0.92\n",
      "loss: 0.28134126842; accuracy: 0.925\n",
      "loss: 0.273414891362; accuracy: 0.9175\n",
      "loss: 0.329326271415; accuracy: 0.9075\n",
      "loss: 0.379252050221; accuracy: 0.9075\n"
     ]
    }
   ],
   "source": [
    "def run(model, batchsize=16, num_epochs=2):\n",
    "    \n",
    "    optimizer = chainer.optimizers.Adam() # we will use chainer's Adam implementation instead of writing our own gradient based optimization\n",
    "    optimizer.setup(model)\n",
    "    \n",
    "    stats = defaultdict(lambda: deque(maxlen=25))\n",
    "    for epoch in range(num_epochs):\n",
    "        train_iter = chainer.iterators.SerialIterator(train, batchsize, repeat=False, shuffle=True)\n",
    "        test_iter = chainer.iterators.SerialIterator(test, batchsize, repeat=False, shuffle=False)\n",
    "        \n",
    "        for itr, batch in enumerate(train_iter):\n",
    "            xs = np.concatenate([datum[0][None, :] for datum in batch])\n",
    "            ys = np.array([datum[1] for datum in batch])\n",
    "\n",
    "            logits = model(xs)\n",
    "\n",
    "            loss = F.softmax_cross_entropy(logits, ys)\n",
    "            model.cleargrads()\n",
    "            loss.backward()\n",
    "            optimizer.update()\n",
    "            \n",
    "            # calculate stats\n",
    "            stats[\"loss\"].append(float(loss.data))\n",
    "            stats[\"accuracy\"].append(float((logits.data.argmax(1) == ys).sum() / batchsize))\n",
    "            if itr % 300 == 0:\n",
    "                print(\"; \".join(\"%s: %s\" % (k, np.mean(vs)) for k, vs in stats.items()))\n",
    "\n",
    "# try a simple linear model\n",
    "run(L.Linear(None, 20))"
   ]
  },
  {
   "cell_type": "markdown",
   "metadata": {},
   "source": [
    "Next we will try to improve performance by training an MLP instead. A partial implementation is provided for you to fill in:"
   ]
  },
  {
   "cell_type": "code",
   "execution_count": 10,
   "metadata": {},
   "outputs": [
    {
     "name": "stdout",
     "output_type": "stream",
     "text": [
      "loss: 2.31155800819; accuracy: 0.125\n",
      "loss: 0.323993041515; accuracy: 0.9075\n",
      "loss: 0.282406048775; accuracy: 0.925\n",
      "loss: 0.175006878376; accuracy: 0.9525\n",
      "loss: 0.146976313591; accuracy: 0.955\n",
      "loss: 0.176403024495; accuracy: 0.9525\n",
      "loss: 0.133834375739; accuracy: 0.96\n",
      "loss: 0.140180146098; accuracy: 0.955\n",
      "loss: 0.132791394591; accuracy: 0.965\n",
      "loss: 0.105753031671; accuracy: 0.9675\n",
      "loss: 0.141905330122; accuracy: 0.965\n",
      "loss: 0.110371516943; accuracy: 0.97\n",
      "loss: 0.0908675649762; accuracy: 0.9675\n",
      "loss: 0.14073966682; accuracy: 0.96\n",
      "loss: 0.0442678076029; accuracy: 0.9825\n",
      "loss: 0.128252605498; accuracy: 0.9625\n",
      "loss: 0.113413430452; accuracy: 0.9575\n",
      "loss: 0.0765111705661; accuracy: 0.98\n",
      "loss: 0.104933944345; accuracy: 0.9775\n",
      "loss: 0.0929145208001; accuracy: 0.9625\n",
      "loss: 0.119193294346; accuracy: 0.97\n",
      "loss: 0.10385248661; accuracy: 0.965\n",
      "loss: 0.0262353429198; accuracy: 0.9875\n",
      "loss: 0.10316899538; accuracy: 0.9625\n",
      "loss: 0.0570216074586; accuracy: 0.9925\n",
      "loss: 0.0800255084038; accuracy: 0.975\n"
     ]
    }
   ],
   "source": [
    "class MLP(chainer.Chain):\n",
    "\n",
    "    def __init__(self, n_units, n_out):\n",
    "        super(MLP, self).__init__()\n",
    "        with self.init_scope():\n",
    "            # the size of the inputs to each layer will be inferred\n",
    "            self.l1 = L.Linear(None, n_units)  # n_in -> n_units\n",
    "            self.l2 = L.Linear(None, n_units)  # n_units -> n_units\n",
    "            self.l3 = L.Linear(None, n_out)  # n_units -> n_out\n",
    "\n",
    "    def __call__(self, x):\n",
    "        # *** YOUR CODE HERE TO BUILD AN MLP W/ self.l1, self.l2, self.l3 ***\n",
    "        # \n",
    "        # Hint: you should make use of non-linearities / activation functions\n",
    "        #     https://docs.chainer.org/en/stable/reference/functions.html#activation-functions\n",
    "        \n",
    "        a1 = F.relu(self.l1(x))\n",
    "        a2 = F.relu(self.l2(a1))\n",
    "        y_pred = self.l3(a2)\n",
    "        return y_pred\n",
    "        \n",
    "        return \n",
    "        \n",
    "run(MLP(200, 10))"
   ]
  },
  {
   "cell_type": "markdown",
   "metadata": {},
   "source": [
    "Next you should try to implement logging test loss and see if the model is overfitting."
   ]
  },
  {
   "cell_type": "code",
   "execution_count": 26,
   "metadata": {},
   "outputs": [
    {
     "name": "stdout",
     "output_type": "stream",
     "text": [
      "test_accuracy: 0.128; test_loss: 2.28350925446; loss: 2.3282251358; accuracy: 0.125\n",
      "test_accuracy: 0.5165; test_loss: 1.30353374779; loss: 0.312513896227; accuracy: 0.91\n",
      "test_accuracy: 0.650166666667; test_loss: 0.954598079125; loss: 0.316382246017; accuracy: 0.91\n",
      "test_accuracy: 0.723325; test_loss: 0.761408872902; loss: 0.251478059888; accuracy: 0.9125\n",
      "test_accuracy: 0.76782; test_loss: 0.643863782287; loss: 0.219899762869; accuracy: 0.935\n",
      "test_accuracy: 0.798266666667; test_loss: 0.562582199772; loss: 0.120408355594; accuracy: 0.9725\n",
      "test_accuracy: 0.8197; test_loss: 0.504502066544; loss: 0.141705753505; accuracy: 0.96\n",
      "test_accuracy: 0.8374375; test_loss: 0.457451401278; loss: 0.183211778998; accuracy: 0.95\n",
      "test_accuracy: 0.848933333333; test_loss: 0.427332296968; loss: 0.219168645144; accuracy: 0.9275\n",
      "test_accuracy: 0.85974; test_loss: 0.398179608583; loss: 0.160027708411; accuracy: 0.9525\n",
      "test_accuracy: 0.868945454545; test_loss: 0.373460112648; loss: 0.126193875968; accuracy: 0.97\n",
      "test_accuracy: 0.877158333333; test_loss: 0.351544345419; loss: 0.127311016619; accuracy: 0.96\n",
      "test_accuracy: 0.884176923077; test_loss: 0.331988016; loss: 0.133022705317; accuracy: 0.955\n",
      "test_accuracy: 0.889707142857; test_loss: 0.316953885768; loss: 0.124954092503; accuracy: 0.96\n",
      "test_accuracy: 0.894766666667; test_loss: 0.303131950895; loss: 0.101682002544; accuracy: 0.9775\n",
      "test_accuracy: 0.89968125; test_loss: 0.289850444999; loss: 0.0305246609449; accuracy: 0.99\n",
      "test_accuracy: 0.903576470588; test_loss: 0.278968633098; loss: 0.0463630396128; accuracy: 0.985\n",
      "test_accuracy: 0.907238888889; test_loss: 0.268953436779; loss: 0.0904101723433; accuracy: 0.9675\n",
      "test_accuracy: 0.910352631579; test_loss: 0.260426991864; loss: 0.0988548114896; accuracy: 0.975\n",
      "test_accuracy: 0.91317; test_loss: 0.252993112057; loss: 0.0980693349242; accuracy: 0.9825\n",
      "test_accuracy: 0.91599047619; test_loss: 0.24549836417; loss: 0.104522691369; accuracy: 0.9725\n",
      "test_accuracy: 0.918613636364; test_loss: 0.23830927773; loss: 0.0883778589964; accuracy: 0.975\n",
      "test_accuracy: 0.920786956522; test_loss: 0.232345062106; loss: 0.121550196409; accuracy: 0.965\n",
      "test_accuracy: 0.922925; test_loss: 0.226177277975; loss: 0.0599469730258; accuracy: 0.975\n",
      "test_accuracy: 0.924964; test_loss: 0.220291168392; loss: 0.0626682138443; accuracy: 0.98\n",
      "test_accuracy: 0.958772; test_loss: 0.132519215643; loss: 0.076242749095; accuracy: 0.975\n"
     ]
    }
   ],
   "source": [
    "def better_run(model, batchsize=16, num_epochs=2):\n",
    "\n",
    "    optimizer = chainer.optimizers.Adam() # we will use chainer's Adam implementation instead of writing our own gradient based optimization\n",
    "    optimizer.setup(model)\n",
    "    \n",
    "    stats = defaultdict(lambda: deque(maxlen=25))\n",
    "    for epoch in range(num_epochs):\n",
    "        train_iter = chainer.iterators.SerialIterator(train, batchsize, repeat=False, shuffle=True)\n",
    "        for itr, batch in enumerate(train_iter):\n",
    "            xs = np.concatenate([datum[0][None, :] for datum in batch])\n",
    "            ys = np.array([datum[1] for datum in batch])\n",
    "\n",
    "            logits = model(xs)\n",
    "\n",
    "            loss = F.softmax_cross_entropy(logits, ys)\n",
    "            model.cleargrads()\n",
    "            loss.backward()\n",
    "            optimizer.update()\n",
    "            \n",
    "            # calculate stats\n",
    "            stats[\"loss\"].append(float(loss.data))\n",
    "            stats[\"accuracy\"].append(float((logits.data.argmax(1) == ys).sum() / batchsize))\n",
    "            if itr % 300 == 0:\n",
    "                # test_iter = chainer.iterators.SerialIterator(test, batchsize, repeat=False, shuffle=False)\n",
    "                # *** YOUR CODE implement logging of stats on test set ***\n",
    "                xs = np.concatenate([datum[0][None, :] for datum in test])\n",
    "                ys = np.array([datum[1] for datum in test])\n",
    "                logits = model(xs)\n",
    "                loss = F.softmax_cross_entropy(logits, ys)\n",
    "                stats[\"test_loss\"].append(float(loss.data))\n",
    "                stats[\"test_accuracy\"].append(float((logits.data.argmax(1) == ys).sum() / len(test)))\n",
    "                    \n",
    "                print(\"; \".join(\"%s: %s\" % (k, np.mean(vs)) for k, vs in stats.items()))\n",
    "\n",
    "better_run(MLP(200, 10))"
   ]
  },
  {
   "cell_type": "markdown",
   "metadata": {},
   "source": [
    "Try different variants!\n",
    "\n",
    "- Does using a ConvNet improve performance (reduce overfitting?)\n",
    "- Try changing the learning rate and observe the effect\n",
    "- Does the model train if you give it correlated gradients? (consecutively sample many batches of \"1\", then many batches of \"2\", ... etc"
   ]
  }
 ],
 "metadata": {
  "kernelspec": {
   "display_name": "Python 3",
   "language": "python",
   "name": "python3"
  },
  "language_info": {
   "codemirror_mode": {
    "name": "ipython",
    "version": 3
   },
   "file_extension": ".py",
   "mimetype": "text/x-python",
   "name": "python",
   "nbconvert_exporter": "python",
   "pygments_lexer": "ipython3",
   "version": "3.5.6"
  }
 },
 "nbformat": 4,
 "nbformat_minor": 1
}
